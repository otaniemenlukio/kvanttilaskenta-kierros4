{
 "cells": [
  {
   "cell_type": "code",
   "execution_count": null,
   "metadata": {},
   "outputs": [],
   "source": []
  },
  {
   "cell_type": "markdown",
   "metadata": {},
   "source": [
    "## $\\text{CNOT}$-portti eri kannassa\n",
    "\n",
    "TODO yleisten tilojen CNOT\n",
    "\n",
    "TODO H2 CNOT H2\n",
    "\n",
    "## Kubitin vaihe\n",
    "\n",
    "TODO $X\\ket - = -\\ket -$\n",
    "\n",
    "## $\\text{CZ}$-portti"
   ]
  },
  {
   "cell_type": "code",
   "execution_count": null,
   "metadata": {},
   "outputs": [
    {
     "name": "stdout",
     "output_type": "stream",
     "text": [
      "[[ 0.35355339]\n",
      " [ 0.35355339]\n",
      " [-0.35355339]\n",
      " [-0.35355339]\n",
      " [ 0.35355339]\n",
      " [ 0.35355339]\n",
      " [-0.35355339]\n",
      " [-0.35355339]]\n"
     ]
    }
   ],
   "source": [
    "from functools import reduce\n",
    "\n",
    "kron = lambda *args: reduce(np.kron, args)\n",
    "\n",
    "print(kron(plus, minus, plus))"
   ]
  }
 ],
 "metadata": {
  "kernelspec": {
   "display_name": "Python 3",
   "language": "python",
   "name": "python3"
  },
  "language_info": {
   "name": "python",
   "version": "3.10.6 (main, Aug  2 2022, 00:00:00) [GCC 12.1.1 20220507 (Red Hat 12.1.1-1)]"
  },
  "orig_nbformat": 4,
  "vscode": {
   "interpreter": {
    "hash": "e7370f93d1d0cde622a1f8e1c04877d8463912d04d973331ad4851f04de6915a"
   }
  }
 },
 "nbformat": 4,
 "nbformat_minor": 2
}
