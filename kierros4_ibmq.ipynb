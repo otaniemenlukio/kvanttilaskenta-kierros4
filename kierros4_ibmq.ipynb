{
 "cells": [
  {
   "attachments": {},
   "cell_type": "markdown",
   "metadata": {},
   "source": [
    "## Kvanttipiirin ajaminen oikealla kvanttitietokoneella\n",
    "\n",
    "Tehtävän tavoiteena on varmistaa että jokainen on saanut oman avaimen eli tokenin aktivoitua qiskit-palvelussa.\n",
    "\n",
    "1. Tee IBMid-käyttäjä [tästä](https://login.ibm.com)\n",
    "\n",
    "2. Kopioi API token [IBM Quantum Experiencen käyttäjäsivulta](https://quantum-computing.ibm.com/account) \n",
    "\n",
    "3. Liitä API token heittomerkkien sisään, ja aja koodi\n",
    "\n",
    "**Huomaa**: Tätä notebookkia ei tarvitse palauttaa."
   ]
  },
  {
   "cell_type": "code",
   "execution_count": null,
   "metadata": {},
   "outputs": [],
   "source": [
    "from qiskit import *\n",
    "from qiskit.visualization import *\n",
    "import matplotlib.pyplot as plt\n",
    "\n",
    "# Poista seuraava rivi kun olet suorittanut sen kerran\n",
    "IBMQ.save_account(\"kirjoita token_tähän\", overwrite=True)\n",
    "\n",
    "provider = IBMQ.load_account()\n",
    "\n",
    "plt.style.use('dark_background')\n",
    "\n",
    "# jos tarvitset vaalean väriteeman niin poista # kommenttimerkit seuraavilta riveiltä\n",
    "# mpl.rcParams.update(mpl.rcParamsDefault)"
   ]
  },
  {
   "cell_type": "markdown",
   "metadata": {},
   "source": [
    "Ohjelmoi seuraava Bellin tilan muodostava kvanttipiiri seuraavaan koodilohkoon.\n",
    "\n",
    "![](./images/bell.png)\n",
    "\n",
    "Mittaukset on jo koodissa."
   ]
  },
  {
   "cell_type": "code",
   "execution_count": null,
   "metadata": {},
   "outputs": [],
   "source": [
    "from qiskit import *\n",
    "from qiskit.visualization import *\n",
    "import numpy as np\n",
    "\n",
    "qc = QuantumCircuit(2)\n",
    "\n",
    "# Ohjelmoi kvanttipiiri tähän\n",
    "\n",
    "\n",
    "qc.measure_all()\n",
    "display(qc.draw(output='mpl'))\n",
    "\n",
    "backend = Aer.get_backend('aer_simulator')\n",
    "plot_histogram(backend.run(qc).result().get_counts())"
   ]
  },
  {
   "attachments": {},
   "cell_type": "markdown",
   "metadata": {},
   "source": [
    "Lähetä piirisi oikealle IBM:n kvanttitietokoneelle suoritettavaksi. Saatat joutua odottamaan tunteja, että piirisi suoritetaan. Suosittelemme siirtymään takaisin [Quantum binary adderiin](./kierros4_kvanttilaskenta2023.ipynb) samalla kun odotat vastauksia.\n",
    "\n",
    "Eri vaihtoehtoja IBM:n kvanttitietokoneista löydät [täältä](https://quantum-computing.ibm.com/services/resources)."
   ]
  },
  {
   "cell_type": "code",
   "execution_count": null,
   "metadata": {},
   "outputs": [],
   "source": [
    "provider = IBMQ.get_provider(hub='ibm-q')\n",
    "qcomp = provider.get_backend('ibmq_quito')\n",
    "\n",
    "job = execute(qc, backend=qcomp)\n",
    "\n",
    "from qiskit.tools.monitor import job_monitor\n",
    "job_monitor(job) # Koodi jää odottamaan tähän, kun lähetys on jonossa ja käsiteltävänä\n",
    "\n",
    "result = job.result()\n",
    "plot_histogram(result.get_counts())"
   ]
  }
 ],
 "metadata": {
  "kernelspec": {
   "display_name": "Python 3",
   "language": "python",
   "name": "python3"
  },
  "language_info": {
   "codemirror_mode": {
    "name": "ipython",
    "version": 3
   },
   "file_extension": ".py",
   "mimetype": "text/x-python",
   "name": "python",
   "nbconvert_exporter": "python",
   "pygments_lexer": "ipython3",
   "version": "3.10.9"
  },
  "orig_nbformat": 4,
  "vscode": {
   "interpreter": {
    "hash": "e7370f93d1d0cde622a1f8e1c04877d8463912d04d973331ad4851f04de6915a"
   }
  }
 },
 "nbformat": 4,
 "nbformat_minor": 2
}
